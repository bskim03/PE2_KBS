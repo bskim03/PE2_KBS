{
 "cells": [
  {
   "cell_type": "markdown",
   "id": "f5c680f028fa936",
   "metadata": {
    "collapsed": false,
    "jupyter": {
     "outputs_hidden": false
    }
   },
   "source": [
    "# **자기소개**"
   ]
  },
  {
   "cell_type": "markdown",
   "id": "16f03532b656cf81",
   "metadata": {
    "collapsed": false,
    "jupyter": {
     "outputs_hidden": false
    }
   },
   "source": [
    "## **목차**\n",
    "- [인적사항](#인적사항)\n",
    "\n",
    "- [학교 및 전공](#학교-및-전공)\n",
    "\n",
    "- [경력](#경력)"
   ]
  },
  {
   "cell_type": "markdown",
   "id": "1e7b0037-5b50-4521-b182-a69e568ed7a1",
   "metadata": {},
   "source": [
    "## **인적사항**\n",
    "\n",
    "<div>\n",
    "    <div style=\"display: inline-block; width: 100px;\">[이름]</div>\n",
    "    <div style=\"display: inline-block;\">김범서</div>\n",
    "</div>\n",
    "\n",
    "<div>\n",
    "    <div style=\"display: inline-block; width: 100px;\">[나이 / 출생지]</div>\n",
    "    <div style=\"display: inline-block;\">22 / 경기도 용인</div>\n",
    "</div>\n",
    "\n",
    "<div>\n",
    "    <div style=\"display: inline-block; width: 100px;\">[이메일]</div>\n",
    "    <div style=\"display: inline-block;\"><a href=mailto:kbs03@hanyang.ac.kr>kbs03@hanyang.ac.kr</a></div>\n",
    "</div>\n",
    "\n",
    "---"
   ]
  },
  {
   "cell_type": "markdown",
   "id": "b9f93561b4004965",
   "metadata": {
    "collapsed": false,
    "jupyter": {
     "outputs_hidden": false
    }
   },
   "source": [
    "## **학교 및 전공**\n",
    "\n",
    "- 한양대학교 ERICA\n",
    "- 나노광전자학과\n",
    "\n",
    "<img src=\"https://www.hanyang.ac.kr/web/www/photo?p_p_id=board_WAR_bbsportlet&p_p_lifecycle=2&p_p_cacheability=cacheLevelPage&p_p_col_id=column-1&p_p_col_count=1&_board_WAR_bbsportlet_cmd=download&_board_WAR_bbsportlet_messageId=908185&_board_WAR_bbsportlet_fileId=185602\" width=\"400\">\n",
    "\n",
    "---"
   ]
  },
  {
   "cell_type": "markdown",
   "id": "cde9ac73c42bfbca",
   "metadata": {
    "collapsed": false,
    "jupyter": {
     "outputs_hidden": false
    }
   },
   "source": [
    "## **경력**\n",
    "- 없음\n",
    "\n",
    "---"
   ]
  }
 ],
 "metadata": {
  "kernelspec": {
   "display_name": "Python 3 (ipykernel)",
   "language": "python",
   "name": "python3"
  },
  "language_info": {
   "codemirror_mode": {
    "name": "ipython",
    "version": 3
   },
   "file_extension": ".py",
   "mimetype": "text/x-python",
   "name": "python",
   "nbconvert_exporter": "python",
   "pygments_lexer": "ipython3",
   "version": "3.11.7"
  }
 },
 "nbformat": 4,
 "nbformat_minor": 5
}
